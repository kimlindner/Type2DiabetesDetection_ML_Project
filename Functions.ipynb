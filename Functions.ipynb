{
 "cells": [
  {
   "cell_type": "code",
   "execution_count": 1,
   "id": "b45ec18f",
   "metadata": {},
   "outputs": [],
   "source": [
    "# load train and test data\n",
    "def load_train_test_data():\n",
    "    '''\n",
    "    This function can be used to load the preprocessed dataset and output the same training and testing data within our \n",
    "    different notebooks.\n",
    "\n",
    "    We decided to do a 85-15 split since our dataset is not very big and we want to maximize the training data while \n",
    "    preserving the test data to some extent. <font color='red'>We have a bit more data due to the oversampling now. \n",
    "    \n",
    "    returns: X_train, X_test, y_train, y_test\n",
    "    '''\n",
    "    import pandas as pd\n",
    "    from sklearn.model_selection import train_test_split\n",
    "    \n",
    "    # load the preprocessed dataset\n",
    "    df = pd.read_csv('data/diabetes_dataset_preprocessed.csv')\n",
    "    \n",
    "    # split the dataset into features and target\n",
    "    y = df['Diabetic']\n",
    "    X = df.drop('Diabetic', axis=1)\n",
    "    \n",
    "    # perform the train test split\n",
    "    X_train, X_test, y_train, y_test = train_test_split(X, y, test_size=0.15, random_state=42, stratify=y)\n",
    "\n",
    "    # print information about the datasets\n",
    "    print('A snippet of our training data:')\n",
    "    display(X_train.head())\n",
    "    print(\"There are {} entries with {} columns in our training data.\".format(X_train.shape[0], X_train.shape[1]))\n",
    "    print(\"There are {} entries with {} columns in our testing data.\".format(X_test.shape[0], X_test.shape[1]))\n",
    "\n",
    "    return (X_train, X_test, y_train, y_test)"
   ]
  },
  {
   "cell_type": "code",
   "execution_count": null,
   "id": "36142be1",
   "metadata": {},
   "outputs": [],
   "source": []
  }
 ],
 "metadata": {
  "kernelspec": {
   "display_name": "Python 3 (ipykernel)",
   "language": "python",
   "name": "python3"
  },
  "language_info": {
   "codemirror_mode": {
    "name": "ipython",
    "version": 3
   },
   "file_extension": ".py",
   "mimetype": "text/x-python",
   "name": "python",
   "nbconvert_exporter": "python",
   "pygments_lexer": "ipython3",
   "version": "3.9.13"
  }
 },
 "nbformat": 4,
 "nbformat_minor": 5
}
