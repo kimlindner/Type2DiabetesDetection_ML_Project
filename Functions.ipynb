{
 "cells": [
  {
   "cell_type": "code",
   "execution_count": 1,
   "id": "b45ec18f",
   "metadata": {},
   "outputs": [],
   "source": [
    "# load train and test data\n",
    "def load_train_test_data():\n",
    "    '''\n",
    "    This function can be used to load the preprocessed dataset and output the same training and testing data within our \n",
    "    different notebooks.\n",
    "\n",
    "    We decided to do a 85-15 split since our dataset is not very big and we want to maximize the training data while \n",
    "    preserving the test data to some extent. <font color='red'>We have a bit more data due to the oversampling now. \n",
    "    \n",
    "    returns: X_train, X_test, y_train, y_test\n",
    "    '''\n",
    "    import pandas as pd\n",
    "    from sklearn.model_selection import train_test_split\n",
    "    \n",
    "    # load the preprocessed dataset\n",
    "    df = pd.read_csv('data/diabetes_dataset_preprocessed.csv')\n",
    "    \n",
    "    # split the dataset into features and target\n",
    "    y = df['Diabetic']\n",
    "    X = df.drop('Diabetic', axis=1)\n",
    "    \n",
    "    # perform the train test split\n",
    "    X_train, X_test, y_train, y_test = train_test_split(X, y, test_size=0.15, random_state=42, stratify=y)\n",
    "\n",
    "    # print information about the datasets\n",
    "    print('A snippet of our training data:')\n",
    "    display(X_train.head())\n",
    "    print(\"There are {} entries with {} columns in our training data.\".format(X_train.shape[0], X_train.shape[1]))\n",
    "    print(\"There are {} entries with {} columns in our testing data.\".format(X_test.shape[0], X_test.shape[1]))\n",
    "\n",
    "    return (X_train, X_test, y_train, y_test)"
   ]
  },
  {
   "cell_type": "code",
   "execution_count": 6,
   "id": "36142be1",
   "metadata": {},
   "outputs": [],
   "source": [
    "#model evaluation\n",
    "def model_eval(model, X_train, X_test, y_train, y_test,acc=True,f1=True,recall=True,precision=True,aoc=True):\n",
    "    '''\n",
    "    This function will evaluate most models with the standart metrics selected from the list:\n",
    "    accuracy | f1 score | recall | precision | aoc \n",
    "    \n",
    "    returns: accuracy,f1 score,recall,precision,aoc \n",
    "    '''\n",
    "    from sklearn.metrics import accuracy_score\n",
    "    from sklearn.metrics import f1_score\n",
    "    from sklearn.metrics import recall_score \n",
    "    from sklearn.metrics import precision_score \n",
    "\n",
    "    active = [acc,f1,recall,precision]\n",
    "    functions = [accuracy_score,f1_score,recall_score,precision_score]\n",
    "    \n",
    "    for i, func in zip(active,functions):\n",
    "        if i:\n",
    "            print(f'\\nEvaluation: {func.__name__}')\n",
    "            v_train =  func(y_train, model.predict(X_train))\n",
    "            v_test = func(y_test, model.predict(X_test))\n",
    "            print('{0:.2%} for the train data'.format(v_train))\n",
    "            print('{0:.2%} for the test data'.format(v_test))\n",
    "        \n",
    "    return "
   ]
  },
  {
   "cell_type": "code",
   "execution_count": null,
   "id": "26c2d00f",
   "metadata": {},
   "outputs": [],
   "source": []
  }
 ],
 "metadata": {
  "kernelspec": {
   "display_name": "Python 3 (ipykernel)",
   "language": "python",
   "name": "python3"
  },
  "language_info": {
   "codemirror_mode": {
    "name": "ipython",
    "version": 3
   },
   "file_extension": ".py",
   "mimetype": "text/x-python",
   "name": "python",
   "nbconvert_exporter": "python",
   "pygments_lexer": "ipython3",
   "version": "3.8.13"
  }
 },
 "nbformat": 4,
 "nbformat_minor": 5
}
