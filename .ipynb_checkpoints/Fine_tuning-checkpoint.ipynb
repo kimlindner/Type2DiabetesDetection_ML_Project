{
 "cells": [
  {
   "cell_type": "code",
   "execution_count": 27,
   "id": "830684d6",
   "metadata": {},
   "outputs": [],
   "source": [
    "# import functions\n",
    "import sklearn.svm\n",
    "from sklearn.metrics import accuracy_score\n",
    "from ipynb.fs.full.Functions import load_train_test_data, load_train_test_oversampled, run_gridsearchCV, load_model, model_eval, run_randomizedsearchCV\n",
    "from sklearn.metrics import accuracy_score\n",
    "from sklearn.metrics import f1_score\n",
    "from sklearn.metrics import recall_score \n",
    "from sklearn.metrics import precision_score\n",
    "import pickle\n",
    "\n",
    "# import models\n",
    "from sklearn import tree\n",
    "from sklearn import ensemble\n",
    "from sklearn.linear_model import LogisticRegression\n",
    "import xgboost as xgb\n",
    "from sklearn import svm\n",
    "import torch\n",
    "from .full.neural_network import Net\n",
    "\n",
    "# turn off warnings\n",
    "import warnings\n",
    "warnings.filterwarnings('ignore')"
   ]
  },
  {
   "cell_type": "markdown",
   "id": "9f62c994",
   "metadata": {},
   "source": [
    "### Function to find best models"
   ]
  },
  {
   "cell_type": "code",
   "execution_count": 2,
   "id": "755e37da",
   "metadata": {},
   "outputs": [],
   "source": [
    "def find_best_models(X_train, X_test, y_train, y_test, ros=''):\n",
    "    models_dict = {\n",
    "    'DecisionTreeClassifier': tree.DecisionTreeClassifier(random_state=0),\n",
    "    'LogisticRegression': LogisticRegression(random_state=0),\n",
    "    'RandomForestClassifier': ensemble.RandomForestClassifier(random_state=0),\n",
    "    'XGBClassifier': xgb.XGBClassifier(seed=0),\n",
    "    'SVC': svm.SVC(random_state=0),\n",
    "    'NeuralNetwork': Net(n_feature=X_train.shape[1], n_hidden=10, n_output=2)\n",
    "    }\n",
    "    search = ['grid', 'random']\n",
    "    scorings = ['f1_macro', 'recall']\n",
    "    best_model_dict = {}\n",
    "    for scoring in scorings:\n",
    "        best_model = None\n",
    "        best_score = 0\n",
    "        f1 = (scoring == 'f1_macro')\n",
    "        recall = (scoring == 'recall')\n",
    "        print('\\nScoring: {}'.format(scoring))\n",
    "        for name, model in models_dict.items():\n",
    "            for s in search:\n",
    "                print('\\nModel: {}'.format(name))\n",
    "                if type(model).__name__ == 'Net':\n",
    "                    saved_model = pickle.load(open('data/{}_{}_best_model.pkl'\n",
    "                                                   .format(type(model).__name__, ros), 'rb'))\n",
    "                    # Convert the data to tensors\n",
    "                    X_train_tensor = torch.tensor(X_train.values, dtype=torch.float32)\n",
    "                    X_test_tensor = torch.tensor(X_test.values, dtype=torch.float32)\n",
    "                    y_train_tensor = torch.tensor(y_train.values, dtype=torch.int64)\n",
    "                    y_test_tensor = torch.tensor(y_test.values, dtype=torch.int64)\n",
    "                    \n",
    "                    v_train, v_test = model_eval(saved_model, X_train_tensor, X_test_tensor, y_train_tensor, \n",
    "                                                 y_test_tensor, acc=False, f1=f1, recall=recall, precision=False)[0]\n",
    "                else:\n",
    "                    saved_model = load_model(model, scoring, ros=ros, search=s)\n",
    "                    v_train, v_test = model_eval(saved_model, X_train, X_test, y_train, y_test,\n",
    "                           acc=False, f1=f1, recall=recall, precision=False)[0]\n",
    "               \n",
    "                if v_test > best_score:\n",
    "                    best_model = saved_model\n",
    "                    best_score = v_test\n",
    "                \n",
    "            best_model_dict[scoring] = best_model\n",
    "            \n",
    "    return best_model_dict"
   ]
  },
  {
   "cell_type": "markdown",
   "id": "b75f5c19",
   "metadata": {},
   "source": [
    "# 1) Find best model with normal preprocessed dataset"
   ]
  },
  {
   "cell_type": "code",
   "execution_count": 3,
   "id": "b4701ff6",
   "metadata": {},
   "outputs": [
    {
     "name": "stdout",
     "output_type": "stream",
     "text": [
      "A snippet of our training data:\n"
     ]
    },
    {
     "data": {
      "text/html": [
       "<div>\n",
       "<style scoped>\n",
       "    .dataframe tbody tr th:only-of-type {\n",
       "        vertical-align: middle;\n",
       "    }\n",
       "\n",
       "    .dataframe tbody tr th {\n",
       "        vertical-align: top;\n",
       "    }\n",
       "\n",
       "    .dataframe thead th {\n",
       "        text-align: right;\n",
       "    }\n",
       "</style>\n",
       "<table border=\"1\" class=\"dataframe\">\n",
       "  <thead>\n",
       "    <tr style=\"text-align: right;\">\n",
       "      <th></th>\n",
       "      <th>Age</th>\n",
       "      <th>PhysicallyActive</th>\n",
       "      <th>BMI</th>\n",
       "      <th>Sleep</th>\n",
       "      <th>SoundSleep</th>\n",
       "      <th>JunkFood</th>\n",
       "      <th>Stress</th>\n",
       "      <th>BPLevel</th>\n",
       "      <th>Pregnancies</th>\n",
       "      <th>UrinationFreq</th>\n",
       "      <th>BMI_high</th>\n",
       "      <th>highBP_yes</th>\n",
       "      <th>RegularMedicine_yes</th>\n",
       "      <th>Pdiabetes_yes</th>\n",
       "      <th>Alcohol_yes</th>\n",
       "      <th>Gender_Male</th>\n",
       "      <th>Smoking_yes</th>\n",
       "      <th>Family_Diabetes_yes</th>\n",
       "    </tr>\n",
       "  </thead>\n",
       "  <tbody>\n",
       "    <tr>\n",
       "      <th>188</th>\n",
       "      <td>3.0</td>\n",
       "      <td>0.0</td>\n",
       "      <td>-0.514087</td>\n",
       "      <td>-0.775318</td>\n",
       "      <td>-0.293345</td>\n",
       "      <td>0.0</td>\n",
       "      <td>1.0</td>\n",
       "      <td>2.0</td>\n",
       "      <td>-0.416387</td>\n",
       "      <td>0.0</td>\n",
       "      <td>0</td>\n",
       "      <td>1.0</td>\n",
       "      <td>1.0</td>\n",
       "      <td>0.0</td>\n",
       "      <td>0.0</td>\n",
       "      <td>1.0</td>\n",
       "      <td>0.0</td>\n",
       "      <td>0.0</td>\n",
       "    </tr>\n",
       "    <tr>\n",
       "      <th>145</th>\n",
       "      <td>0.0</td>\n",
       "      <td>2.0</td>\n",
       "      <td>-1.261602</td>\n",
       "      <td>0.026431</td>\n",
       "      <td>-0.293345</td>\n",
       "      <td>0.0</td>\n",
       "      <td>0.0</td>\n",
       "      <td>1.0</td>\n",
       "      <td>-0.416387</td>\n",
       "      <td>0.0</td>\n",
       "      <td>0</td>\n",
       "      <td>0.0</td>\n",
       "      <td>0.0</td>\n",
       "      <td>0.0</td>\n",
       "      <td>1.0</td>\n",
       "      <td>1.0</td>\n",
       "      <td>1.0</td>\n",
       "      <td>1.0</td>\n",
       "    </tr>\n",
       "    <tr>\n",
       "      <th>87</th>\n",
       "      <td>3.0</td>\n",
       "      <td>1.0</td>\n",
       "      <td>-2.009116</td>\n",
       "      <td>-2.378816</td>\n",
       "      <td>-0.838128</td>\n",
       "      <td>0.0</td>\n",
       "      <td>2.0</td>\n",
       "      <td>2.0</td>\n",
       "      <td>-0.416387</td>\n",
       "      <td>1.0</td>\n",
       "      <td>0</td>\n",
       "      <td>1.0</td>\n",
       "      <td>1.0</td>\n",
       "      <td>0.0</td>\n",
       "      <td>0.0</td>\n",
       "      <td>1.0</td>\n",
       "      <td>0.0</td>\n",
       "      <td>0.0</td>\n",
       "    </tr>\n",
       "    <tr>\n",
       "      <th>262</th>\n",
       "      <td>3.0</td>\n",
       "      <td>2.0</td>\n",
       "      <td>-0.887844</td>\n",
       "      <td>0.828180</td>\n",
       "      <td>-0.838128</td>\n",
       "      <td>0.0</td>\n",
       "      <td>1.0</td>\n",
       "      <td>1.0</td>\n",
       "      <td>-0.416387</td>\n",
       "      <td>1.0</td>\n",
       "      <td>0</td>\n",
       "      <td>1.0</td>\n",
       "      <td>1.0</td>\n",
       "      <td>0.0</td>\n",
       "      <td>1.0</td>\n",
       "      <td>1.0</td>\n",
       "      <td>0.0</td>\n",
       "      <td>1.0</td>\n",
       "    </tr>\n",
       "    <tr>\n",
       "      <th>45</th>\n",
       "      <td>1.0</td>\n",
       "      <td>1.0</td>\n",
       "      <td>-0.887844</td>\n",
       "      <td>-0.775318</td>\n",
       "      <td>0.251438</td>\n",
       "      <td>0.0</td>\n",
       "      <td>1.0</td>\n",
       "      <td>0.0</td>\n",
       "      <td>-0.416387</td>\n",
       "      <td>0.0</td>\n",
       "      <td>0</td>\n",
       "      <td>0.0</td>\n",
       "      <td>0.0</td>\n",
       "      <td>0.0</td>\n",
       "      <td>0.0</td>\n",
       "      <td>1.0</td>\n",
       "      <td>0.0</td>\n",
       "      <td>1.0</td>\n",
       "    </tr>\n",
       "  </tbody>\n",
       "</table>\n",
       "</div>"
      ],
      "text/plain": [
       "     Age  PhysicallyActive       BMI     Sleep  SoundSleep  JunkFood  Stress  \\\n",
       "188  3.0               0.0 -0.514087 -0.775318   -0.293345       0.0     1.0   \n",
       "145  0.0               2.0 -1.261602  0.026431   -0.293345       0.0     0.0   \n",
       "87   3.0               1.0 -2.009116 -2.378816   -0.838128       0.0     2.0   \n",
       "262  3.0               2.0 -0.887844  0.828180   -0.838128       0.0     1.0   \n",
       "45   1.0               1.0 -0.887844 -0.775318    0.251438       0.0     1.0   \n",
       "\n",
       "     BPLevel  Pregnancies  UrinationFreq  BMI_high  highBP_yes  \\\n",
       "188      2.0    -0.416387            0.0         0         1.0   \n",
       "145      1.0    -0.416387            0.0         0         0.0   \n",
       "87       2.0    -0.416387            1.0         0         1.0   \n",
       "262      1.0    -0.416387            1.0         0         1.0   \n",
       "45       0.0    -0.416387            0.0         0         0.0   \n",
       "\n",
       "     RegularMedicine_yes  Pdiabetes_yes  Alcohol_yes  Gender_Male  \\\n",
       "188                  1.0            0.0          0.0          1.0   \n",
       "145                  0.0            0.0          1.0          1.0   \n",
       "87                   1.0            0.0          0.0          1.0   \n",
       "262                  1.0            0.0          1.0          1.0   \n",
       "45                   0.0            0.0          0.0          1.0   \n",
       "\n",
       "     Smoking_yes  Family_Diabetes_yes  \n",
       "188          0.0                  0.0  \n",
       "145          1.0                  1.0  \n",
       "87           0.0                  0.0  \n",
       "262          0.0                  1.0  \n",
       "45           0.0                  1.0  "
      ]
     },
     "metadata": {},
     "output_type": "display_data"
    },
    {
     "name": "stdout",
     "output_type": "stream",
     "text": [
      "There are 232 entries with 18 columns in our training data.\n",
      "There are 41 entries with 18 columns in our testing data.\n"
     ]
    }
   ],
   "source": [
    "# load the preprocessed data set\n",
    "X_train, X_test, y_train, y_test = load_train_test_data()"
   ]
  },
  {
   "cell_type": "markdown",
   "id": "e0464363",
   "metadata": {},
   "source": [
    "### Best model with normal preprocessed dataset"
   ]
  },
  {
   "cell_type": "code",
   "execution_count": 4,
   "id": "76ee19af",
   "metadata": {},
   "outputs": [
    {
     "name": "stdout",
     "output_type": "stream",
     "text": [
      "\n",
      "Scoring: f1_macro\n",
      "\n",
      "Model: DecisionTreeClassifier\n",
      "\n",
      "Evaluation: f1_score\n",
      "78.32% for the train data\n",
      "59.26% for the test data\n",
      "\n",
      "Model: DecisionTreeClassifier\n",
      "\n",
      "Evaluation: f1_score\n",
      "90.51% for the train data\n",
      "45.45% for the test data\n",
      "\n",
      "Model: LogisticRegression\n",
      "\n",
      "Evaluation: f1_score\n",
      "72.34% for the train data\n",
      "60.87% for the test data\n",
      "\n",
      "Model: LogisticRegression\n",
      "\n",
      "Evaluation: f1_score\n",
      "73.24% for the train data\n",
      "60.87% for the test data\n",
      "\n",
      "Model: RandomForestClassifier\n",
      "\n",
      "Evaluation: f1_score\n",
      "82.19% for the train data\n",
      "75.00% for the test data\n",
      "\n",
      "Model: RandomForestClassifier\n",
      "\n",
      "Evaluation: f1_score\n",
      "79.19% for the train data\n",
      "66.67% for the test data\n",
      "\n",
      "Model: XGBClassifier\n",
      "\n",
      "Evaluation: f1_score\n",
      "73.89% for the train data\n",
      "66.67% for the test data\n",
      "\n",
      "Model: XGBClassifier\n",
      "\n",
      "Evaluation: f1_score\n",
      "74.36% for the train data\n",
      "66.67% for the test data\n",
      "\n",
      "Model: SVC\n",
      "\n",
      "Evaluation: f1_score\n",
      "76.07% for the train data\n",
      "81.48% for the test data\n",
      "\n",
      "Model: SVC\n",
      "\n",
      "Evaluation: f1_score\n",
      "76.07% for the train data\n",
      "81.48% for the test data\n",
      "\n",
      "Model: NeuralNetwork\n",
      "\n",
      "Evaluation: f1_score\n",
      "75.32% for the train data\n",
      "69.57% for the test data\n",
      "\n",
      "Model: NeuralNetwork\n",
      "\n",
      "Evaluation: f1_score\n",
      "75.32% for the train data\n",
      "69.57% for the test data\n",
      "\n",
      "Scoring: recall\n",
      "\n",
      "Model: DecisionTreeClassifier\n",
      "\n",
      "Evaluation: recall_score\n",
      "69.33% for the train data\n",
      "53.85% for the test data\n",
      "\n",
      "Model: DecisionTreeClassifier\n",
      "\n",
      "Evaluation: recall_score\n",
      "82.67% for the train data\n",
      "53.85% for the test data\n",
      "\n",
      "Model: LogisticRegression\n",
      "\n",
      "Evaluation: recall_score\n",
      "68.00% for the train data\n",
      "53.85% for the test data\n",
      "\n",
      "Model: LogisticRegression\n",
      "\n",
      "Evaluation: recall_score\n",
      "68.00% for the train data\n",
      "53.85% for the test data\n",
      "\n",
      "Model: RandomForestClassifier\n",
      "\n",
      "Evaluation: recall_score\n",
      "82.67% for the train data\n",
      "61.54% for the test data\n",
      "\n",
      "Model: RandomForestClassifier\n",
      "\n",
      "Evaluation: recall_score\n",
      "78.67% for the train data\n",
      "61.54% for the test data\n",
      "\n",
      "Model: XGBClassifier\n",
      "\n",
      "Evaluation: recall_score\n",
      "77.33% for the train data\n",
      "69.23% for the test data\n",
      "\n",
      "Model: XGBClassifier\n",
      "\n",
      "Evaluation: recall_score\n",
      "77.33% for the train data\n",
      "69.23% for the test data\n",
      "\n",
      "Model: SVC\n",
      "\n",
      "Evaluation: recall_score\n",
      "88.00% for the train data\n",
      "100.00% for the test data\n",
      "\n",
      "Model: SVC\n",
      "\n",
      "Evaluation: recall_score\n",
      "88.00% for the train data\n",
      "100.00% for the test data\n",
      "\n",
      "Model: NeuralNetwork\n",
      "\n",
      "Evaluation: recall_score\n",
      "77.33% for the train data\n",
      "61.54% for the test data\n",
      "\n",
      "Model: NeuralNetwork\n",
      "\n",
      "Evaluation: recall_score\n",
      "77.33% for the train data\n",
      "61.54% for the test data\n"
     ]
    }
   ],
   "source": [
    "best_model_dict = find_best_models(X_train, X_test, y_train, y_test)"
   ]
  },
  {
   "cell_type": "code",
   "execution_count": 5,
   "id": "a4d64c60",
   "metadata": {},
   "outputs": [
    {
     "name": "stdout",
     "output_type": "stream",
     "text": [
      "F1 macro best model: SVC evaluation\n",
      "\n",
      "Evaluation: f1_score\n",
      "76.07% for the train data\n",
      "81.48% for the test data\n",
      "\n",
      "Evaluation: accuracy_score\n",
      "83.19% for the train data\n",
      "87.80% for the test data\n",
      "\n",
      "Evaluation: recall_score\n",
      "82.67% for the train data\n",
      "84.62% for the test data\n",
      "\n",
      "Evaluation: precision_score\n",
      "70.45% for the train data\n",
      "78.57% for the test data\n",
      "\n",
      "Evaluation: confusion_matrix\n"
     ]
    },
    {
     "data": {
      "image/png": "[encoded data removed]",
      "text/plain": [
       "<Figure size 640x480 with 2 Axes>"
      ]
     },
     "metadata": {},
     "output_type": "display_data"
    },
    {
     "name": "stdout",
     "output_type": "stream",
     "text": [
      "\n",
      "Evaluation: roc\n"
     ]
    },
    {
     "data": {
      "image/png": "[encoded data removed]",
      "text/plain": [
       "<Figure size 640x480 with 1 Axes>"
      ]
     },
     "metadata": {},
     "output_type": "display_data"
    },
    {
     "data": {
      "text/plain": [
       "[(0.7607361963190183, 0.8148148148148148),\n",
       " (0.8318965517241379, 0.8780487804878049),\n",
       " (0.8266666666666667, 0.8461538461538461),\n",
       " (0.7045454545454546, 0.7857142857142857)]"
      ]
     },
     "execution_count": 5,
     "metadata": {},
     "output_type": "execute_result"
    }
   ],
   "source": [
    "print('F1 macro best model: {} evaluation'.format(type(best_model_dict['f1_macro']).__name__))\n",
    "model_eval(best_model_dict['f1_macro'], X_train, X_test, y_train, y_test, confusion=True, roc=True)"
   ]
  },
  {
   "cell_type": "code",
   "execution_count": 6,
   "id": "6f8b0e15",
   "metadata": {},
   "outputs": [
    {
     "name": "stdout",
     "output_type": "stream",
     "text": [
      "Recall best model: SVC evaluation\n",
      "\n",
      "Evaluation: f1_score\n",
      "73.33% for the train data\n",
      "74.29% for the test data\n",
      "\n",
      "Evaluation: accuracy_score\n",
      "79.31% for the train data\n",
      "78.05% for the test data\n",
      "\n",
      "Evaluation: recall_score\n",
      "88.00% for the train data\n",
      "100.00% for the test data\n",
      "\n",
      "Evaluation: precision_score\n",
      "62.86% for the train data\n",
      "59.09% for the test data\n",
      "\n",
      "Evaluation: confusion_matrix\n"
     ]
    },
    {
     "data": {
      "image/png": "[encoded data removed]",
      "text/plain": [
       "<Figure size 640x480 with 2 Axes>"
      ]
     },
     "metadata": {},
     "output_type": "display_data"
    },
    {
     "name": "stdout",
     "output_type": "stream",
     "text": [
      "\n",
      "Evaluation: roc\n"
     ]
    },
    {
     "data": {
      "image/png": "[encoded data removed]",
      "text/plain": [
       "<Figure size 640x480 with 1 Axes>"
      ]
     },
     "metadata": {},
     "output_type": "display_data"
    },
    {
     "data": {
      "text/plain": [
       "[(0.7333333333333334, 0.7428571428571429),\n",
       " (0.7931034482758621, 0.7804878048780488),\n",
       " (0.88, 1.0),\n",
       " (0.6285714285714286, 0.5909090909090909)]"
      ]
     },
     "execution_count": 6,
     "metadata": {},
     "output_type": "execute_result"
    }
   ],
   "source": [
    "print('Recall best model: {} evaluation'.format(type(best_model_dict['recall']).__name__))\n",
    "model_eval(best_model_dict['recall'], X_train, X_test, y_train, y_test, confusion=True, roc=True)"
   ]
  },
  {
   "cell_type": "markdown",
   "id": "e887e6a4",
   "metadata": {},
   "source": [
    "# 2) Find best model with oversample preprocessed dataset"
   ]
  },
  {
   "cell_type": "code",
   "execution_count": 7,
   "id": "b0f46eaa",
   "metadata": {},
   "outputs": [
    {
     "name": "stdout",
     "output_type": "stream",
     "text": [
      "A snippet of our training data:\n"
     ]
    },
    {
     "data": {
      "text/html": [
       "<div>\n",
       "<style scoped>\n",
       "    .dataframe tbody tr th:only-of-type {\n",
       "        vertical-align: middle;\n",
       "    }\n",
       "\n",
       "    .dataframe tbody tr th {\n",
       "        vertical-align: top;\n",
       "    }\n",
       "\n",
       "    .dataframe thead th {\n",
       "        text-align: right;\n",
       "    }\n",
       "</style>\n",
       "<table border=\"1\" class=\"dataframe\">\n",
       "  <thead>\n",
       "    <tr style=\"text-align: right;\">\n",
       "      <th></th>\n",
       "      <th>Age</th>\n",
       "      <th>PhysicallyActive</th>\n",
       "      <th>BMI</th>\n",
       "      <th>Sleep</th>\n",
       "      <th>SoundSleep</th>\n",
       "      <th>JunkFood</th>\n",
       "      <th>Stress</th>\n",
       "      <th>BPLevel</th>\n",
       "      <th>Pregnancies</th>\n",
       "      <th>UrinationFreq</th>\n",
       "      <th>BMI_high</th>\n",
       "      <th>highBP_yes</th>\n",
       "      <th>RegularMedicine_yes</th>\n",
       "      <th>Pdiabetes_yes</th>\n",
       "      <th>Alcohol_yes</th>\n",
       "      <th>Gender_Male</th>\n",
       "      <th>Smoking_yes</th>\n",
       "      <th>Family_Diabetes_yes</th>\n",
       "    </tr>\n",
       "  </thead>\n",
       "  <tbody>\n",
       "    <tr>\n",
       "      <th>0</th>\n",
       "      <td>0.0</td>\n",
       "      <td>2.0</td>\n",
       "      <td>1.354699</td>\n",
       "      <td>0.828180</td>\n",
       "      <td>-0.838128</td>\n",
       "      <td>0.0</td>\n",
       "      <td>1.0</td>\n",
       "      <td>1.0</td>\n",
       "      <td>-0.416387</td>\n",
       "      <td>1.0</td>\n",
       "      <td>1</td>\n",
       "      <td>0.0</td>\n",
       "      <td>0.0</td>\n",
       "      <td>0.0</td>\n",
       "      <td>0.0</td>\n",
       "      <td>0.0</td>\n",
       "      <td>0.0</td>\n",
       "      <td>0.0</td>\n",
       "    </tr>\n",
       "    <tr>\n",
       "      <th>1</th>\n",
       "      <td>3.0</td>\n",
       "      <td>1.0</td>\n",
       "      <td>0.794063</td>\n",
       "      <td>-0.775318</td>\n",
       "      <td>-1.927694</td>\n",
       "      <td>1.0</td>\n",
       "      <td>3.0</td>\n",
       "      <td>2.0</td>\n",
       "      <td>-0.416387</td>\n",
       "      <td>0.0</td>\n",
       "      <td>1</td>\n",
       "      <td>0.0</td>\n",
       "      <td>1.0</td>\n",
       "      <td>0.0</td>\n",
       "      <td>1.0</td>\n",
       "      <td>1.0</td>\n",
       "      <td>0.0</td>\n",
       "      <td>0.0</td>\n",
       "    </tr>\n",
       "    <tr>\n",
       "      <th>2</th>\n",
       "      <td>3.0</td>\n",
       "      <td>1.0</td>\n",
       "      <td>0.420306</td>\n",
       "      <td>0.828180</td>\n",
       "      <td>1.341005</td>\n",
       "      <td>0.0</td>\n",
       "      <td>0.0</td>\n",
       "      <td>1.0</td>\n",
       "      <td>-0.416387</td>\n",
       "      <td>1.0</td>\n",
       "      <td>1</td>\n",
       "      <td>0.0</td>\n",
       "      <td>1.0</td>\n",
       "      <td>0.0</td>\n",
       "      <td>0.0</td>\n",
       "      <td>1.0</td>\n",
       "      <td>0.0</td>\n",
       "      <td>0.0</td>\n",
       "    </tr>\n",
       "    <tr>\n",
       "      <th>3</th>\n",
       "      <td>0.0</td>\n",
       "      <td>2.0</td>\n",
       "      <td>2.289092</td>\n",
       "      <td>0.828180</td>\n",
       "      <td>-0.838128</td>\n",
       "      <td>0.0</td>\n",
       "      <td>1.0</td>\n",
       "      <td>1.0</td>\n",
       "      <td>-0.416387</td>\n",
       "      <td>1.0</td>\n",
       "      <td>1</td>\n",
       "      <td>1.0</td>\n",
       "      <td>1.0</td>\n",
       "      <td>0.0</td>\n",
       "      <td>0.0</td>\n",
       "      <td>0.0</td>\n",
       "      <td>0.0</td>\n",
       "      <td>1.0</td>\n",
       "    </tr>\n",
       "    <tr>\n",
       "      <th>4</th>\n",
       "      <td>0.0</td>\n",
       "      <td>1.0</td>\n",
       "      <td>-0.514087</td>\n",
       "      <td>-1.577067</td>\n",
       "      <td>-0.293345</td>\n",
       "      <td>3.0</td>\n",
       "      <td>1.0</td>\n",
       "      <td>1.0</td>\n",
       "      <td>-0.416387</td>\n",
       "      <td>0.0</td>\n",
       "      <td>0</td>\n",
       "      <td>0.0</td>\n",
       "      <td>0.0</td>\n",
       "      <td>0.0</td>\n",
       "      <td>0.0</td>\n",
       "      <td>1.0</td>\n",
       "      <td>0.0</td>\n",
       "      <td>1.0</td>\n",
       "    </tr>\n",
       "  </tbody>\n",
       "</table>\n",
       "</div>"
      ],
      "text/plain": [
       "   Age  PhysicallyActive       BMI     Sleep  SoundSleep  JunkFood  Stress  \\\n",
       "0  0.0               2.0  1.354699  0.828180   -0.838128       0.0     1.0   \n",
       "1  3.0               1.0  0.794063 -0.775318   -1.927694       1.0     3.0   \n",
       "2  3.0               1.0  0.420306  0.828180    1.341005       0.0     0.0   \n",
       "3  0.0               2.0  2.289092  0.828180   -0.838128       0.0     1.0   \n",
       "4  0.0               1.0 -0.514087 -1.577067   -0.293345       3.0     1.0   \n",
       "\n",
       "   BPLevel  Pregnancies  UrinationFreq  BMI_high  highBP_yes  \\\n",
       "0      1.0    -0.416387            1.0         1         0.0   \n",
       "1      2.0    -0.416387            0.0         1         0.0   \n",
       "2      1.0    -0.416387            1.0         1         0.0   \n",
       "3      1.0    -0.416387            1.0         1         1.0   \n",
       "4      1.0    -0.416387            0.0         0         0.0   \n",
       "\n",
       "   RegularMedicine_yes  Pdiabetes_yes  Alcohol_yes  Gender_Male  Smoking_yes  \\\n",
       "0                  0.0            0.0          0.0          0.0          0.0   \n",
       "1                  1.0            0.0          1.0          1.0          0.0   \n",
       "2                  1.0            0.0          0.0          1.0          0.0   \n",
       "3                  1.0            0.0          0.0          0.0          0.0   \n",
       "4                  0.0            0.0          0.0          1.0          0.0   \n",
       "\n",
       "   Family_Diabetes_yes  \n",
       "0                  0.0  \n",
       "1                  0.0  \n",
       "2                  0.0  \n",
       "3                  1.0  \n",
       "4                  1.0  "
      ]
     },
     "metadata": {},
     "output_type": "display_data"
    },
    {
     "name": "stdout",
     "output_type": "stream",
     "text": [
      "There are 258 entries with 18 columns in our training data.\n",
      "There are 82 entries with 18 columns in our testing data.\n"
     ]
    }
   ],
   "source": [
    "X_train2, X_test2, y_train2, y_test2 = load_train_test_oversampled()"
   ]
  },
  {
   "cell_type": "code",
   "execution_count": 8,
   "id": "7bf1b865",
   "metadata": {},
   "outputs": [
    {
     "name": "stdout",
     "output_type": "stream",
     "text": [
      "\n",
      "Scoring: f1_macro\n",
      "\n",
      "Model: DecisionTreeClassifier\n",
      "\n",
      "Evaluation: f1_score\n",
      "94.16% for the train data\n",
      "58.62% for the test data\n",
      "\n",
      "Model: DecisionTreeClassifier\n",
      "\n",
      "Evaluation: f1_score\n",
      "96.92% for the train data\n",
      "51.85% for the test data\n",
      "\n",
      "Model: LogisticRegression\n",
      "\n",
      "Evaluation: f1_score\n",
      "89.58% for the train data\n",
      "49.06% for the test data\n",
      "\n",
      "Model: LogisticRegression\n",
      "\n",
      "Evaluation: f1_score\n",
      "89.23% for the train data\n",
      "49.06% for the test data\n",
      "\n",
      "Model: RandomForestClassifier\n",
      "\n",
      "Evaluation: f1_score\n",
      "96.99% for the train data\n",
      "55.56% for the test data\n",
      "\n",
      "Model: RandomForestClassifier\n",
      "\n",
      "Evaluation: f1_score\n",
      "96.92% for the train data\n",
      "55.56% for the test data\n",
      "\n",
      "Model: XGBClassifier\n",
      "\n",
      "Evaluation: f1_score\n",
      "96.95% for the train data\n",
      "54.55% for the test data\n",
      "\n",
      "Model: XGBClassifier\n",
      "\n",
      "Evaluation: f1_score\n",
      "96.97% for the train data\n",
      "56.60% for the test data\n",
      "\n",
      "Model: SVC\n",
      "\n",
      "Evaluation: f1_score\n",
      "95.79% for the train data\n",
      "43.14% for the test data\n",
      "\n",
      "Model: SVC\n",
      "\n",
      "Evaluation: f1_score\n",
      "95.79% for the train data\n",
      "43.14% for the test data\n",
      "\n",
      "Model: NeuralNetwork\n",
      "\n",
      "Evaluation: f1_score\n",
      "89.90% for the train data\n",
      "60.00% for the test data\n",
      "\n",
      "Model: NeuralNetwork\n",
      "\n",
      "Evaluation: f1_score\n",
      "89.90% for the train data\n",
      "60.00% for the test data\n",
      "\n",
      "Scoring: recall\n",
      "\n",
      "Model: DecisionTreeClassifier\n",
      "\n",
      "Evaluation: recall_score\n",
      "100.00% for the train data\n",
      "65.38% for the test data\n",
      "\n",
      "Model: DecisionTreeClassifier\n",
      "\n",
      "Evaluation: recall_score\n",
      "97.67% for the train data\n",
      "50.00% for the test data\n",
      "\n",
      "Model: LogisticRegression\n",
      "\n",
      "Evaluation: recall_score\n",
      "100.00% for the train data\n",
      "100.00% for the test data\n",
      "\n",
      "Model: LogisticRegression\n",
      "\n",
      "Evaluation: recall_score\n",
      "98.45% for the train data\n",
      "92.31% for the test data\n",
      "\n",
      "Model: RandomForestClassifier\n",
      "\n",
      "Evaluation: recall_score\n",
      "100.00% for the train data\n",
      "57.69% for the test data\n",
      "\n",
      "Model: RandomForestClassifier\n",
      "\n",
      "Evaluation: recall_score\n",
      "98.45% for the train data\n",
      "57.69% for the test data\n",
      "\n",
      "Model: XGBClassifier\n",
      "\n",
      "Evaluation: recall_score\n",
      "98.45% for the train data\n",
      "53.85% for the test data\n",
      "\n",
      "Model: XGBClassifier\n",
      "\n",
      "Evaluation: recall_score\n",
      "99.22% for the train data\n",
      "57.69% for the test data\n",
      "\n",
      "Model: SVC\n",
      "\n",
      "Evaluation: recall_score\n",
      "98.45% for the train data\n",
      "53.85% for the test data\n",
      "\n",
      "Model: SVC\n",
      "\n",
      "Evaluation: recall_score\n",
      "98.45% for the train data\n",
      "53.85% for the test data\n",
      "\n",
      "Model: NeuralNetwork\n",
      "\n",
      "Evaluation: recall_score\n",
      "100.00% for the train data\n",
      "80.77% for the test data\n",
      "\n",
      "Model: NeuralNetwork\n",
      "\n",
      "Evaluation: recall_score\n",
      "100.00% for the train data\n",
      "80.77% for the test data\n"
     ]
    }
   ],
   "source": [
    "best_model_dict2 = find_best_models(X_train2, X_test2, y_train2, y_test2, ros='ros')"
   ]
  },
  {
   "cell_type": "code",
   "execution_count": 9,
   "id": "34dedaa8",
   "metadata": {},
   "outputs": [
    {
     "name": "stdout",
     "output_type": "stream",
     "text": [
      "F1_macro best model: Net evaluation\n"
     ]
    }
   ],
   "source": [
    "print('F1_macro best model: {} evaluation'.format(type(best_model_dict2['f1_macro']).__name__))\n",
    "# model_eval(best_model_dict2['f1_macro'], X_train2, X_test2, y_train2, y_test2, confusion=True, roc=True)"
   ]
  },
  {
   "cell_type": "code",
   "execution_count": 10,
   "id": "14911b2d",
   "metadata": {},
   "outputs": [
    {
     "name": "stdout",
     "output_type": "stream",
     "text": [
      "Recall best model: LogisticRegression evaluation\n"
     ]
    }
   ],
   "source": [
    "print('Recall best model: {} evaluation'.format(type(best_model_dict2['recall']).__name__))\n",
    "# model_eval(best_model_dict2['recall'], X_train2, X_test2, y_train2, y_test2, confusion=True, roc=True)"
   ]
  },
  {
   "cell_type": "markdown",
   "id": "d02cec01",
   "metadata": {},
   "source": [
    "# 3) Extensive hyperparemeter search with the best model (normal preprocessed dataset)"
   ]
  },
  {
   "cell_type": "code",
   "execution_count": 11,
   "id": "35b5c13d",
   "metadata": {},
   "outputs": [],
   "source": [
    "# define the grid for the hyperparameter search\n",
    "grid_svm = { 'C': [0.001, 0.01, 0.1, 1, 10, 100], \n",
    "            'gamma': [0.0001, 0.001, 0.01, 0.1, 1, 10, 'scale', 'auto'],\n",
    "            'degree': [1, 2, 3, 4], \n",
    "            'kernel': ['linear', 'rbf', 'poly', 'sigmoid'],\n",
    "            'class_weight': ['balanced', None]\n",
    "            }"
   ]
  },
  {
   "cell_type": "code",
   "execution_count": 12,
   "id": "682afa14",
   "metadata": {},
   "outputs": [],
   "source": [
    "from scipy.stats import uniform\n",
    "from scipy.stats import randint\n",
    "\n",
    "rand_svm = {\n",
    "    'C': uniform(0.01, 100),\n",
    "    'gamma': uniform(0.0001, 100),\n",
    "    'degree': [1, 2, 3],\n",
    "    'kernel': ['rbf', 'poly'],\n",
    "    'class_weight': ['balanced']\n",
    "}"
   ]
  },
  {
   "cell_type": "code",
   "execution_count": 13,
   "id": "cdf3f2a0",
   "metadata": {},
   "outputs": [],
   "source": [
    "svm_model = svm.SVC(random_state=0)"
   ]
  },
  {
   "cell_type": "code",
   "execution_count": 14,
   "id": "2a2fb6aa",
   "metadata": {},
   "outputs": [
    {
     "name": "stdout",
     "output_type": "stream",
     "text": [
      "\n",
      "Best hyperparameters : {'C': 0.001, 'class_weight': 'balanced', 'degree': 2, 'gamma': 1, 'kernel': 'poly'}\n",
      "Best cross-validated f1_macro : 0.792182999202712\n"
     ]
    }
   ],
   "source": [
    "run_gridsearchCV(svm_model, grid_svm, X_train, y_train, scoring='f1_macro', ros='final', verbose=0)"
   ]
  },
  {
   "cell_type": "code",
   "execution_count": 15,
   "id": "57971cf1",
   "metadata": {},
   "outputs": [
    {
     "name": "stdout",
     "output_type": "stream",
     "text": [
      "\n",
      "Evaluation: f1_score\n",
      "76.07% for the train data\n",
      "81.48% for the test data\n",
      "\n",
      "Evaluation: accuracy_score\n",
      "83.19% for the train data\n",
      "87.80% for the test data\n",
      "\n",
      "Evaluation: recall_score\n",
      "82.67% for the train data\n",
      "84.62% for the test data\n",
      "\n",
      "Evaluation: precision_score\n",
      "70.45% for the train data\n",
      "78.57% for the test data\n",
      "\n",
      "Evaluation: confusion_matrix\n"
     ]
    },
    {
     "data": {
      "image/png": "[encoded data removed]",
      "text/plain": [
       "<Figure size 640x480 with 2 Axes>"
      ]
     },
     "metadata": {},
     "output_type": "display_data"
    },
    {
     "name": "stdout",
     "output_type": "stream",
     "text": [
      "\n",
      "Evaluation: roc\n"
     ]
    },
    {
     "data": {
      "image/png": "[encoded data removed]",
      "text/plain": [
       "<Figure size 640x480 with 1 Axes>"
      ]
     },
     "metadata": {},
     "output_type": "display_data"
    },
    {
     "data": {
      "text/plain": [
       "[(0.7607361963190183, 0.8148148148148148),\n",
       " (0.8318965517241379, 0.8780487804878049),\n",
       " (0.8266666666666667, 0.8461538461538461),\n",
       " (0.7045454545454546, 0.7857142857142857)]"
      ]
     },
     "execution_count": 15,
     "metadata": {},
     "output_type": "execute_result"
    }
   ],
   "source": [
    "f1_best_model_grid = load_model(svm_model, 'f1_macro', ros='final', search='grid')\n",
    "model_eval(f1_best_model_grid, X_train, X_test, y_train, y_test, confusion=True, roc=True)"
   ]
  },
  {
   "cell_type": "code",
   "execution_count": 16,
   "id": "75474390",
   "metadata": {},
   "outputs": [
    {
     "name": "stdout",
     "output_type": "stream",
     "text": [
      "\n",
      "Best hyperparameters : {'C': 95.25104481773523, 'class_weight': 'balanced', 'degree': 1, 'gamma': 97.54103426257522, 'kernel': 'poly'}\n",
      "Best cross-validated f1_macro : 0.7764348865229594\n"
     ]
    }
   ],
   "source": [
    "run_randomizedsearchCV(svm_model, rand_svm, X_train, y_train, scoring='f1_macro', ros='final', verbose=0)"
   ]
  },
  {
   "cell_type": "code",
   "execution_count": 17,
   "id": "2285ea9a",
   "metadata": {},
   "outputs": [
    {
     "name": "stdout",
     "output_type": "stream",
     "text": [
      "\n",
      "Evaluation: f1_score\n",
      "75.58% for the train data\n",
      "74.07% for the test data\n",
      "\n",
      "Evaluation: accuracy_score\n",
      "81.90% for the train data\n",
      "82.93% for the test data\n",
      "\n",
      "Evaluation: recall_score\n",
      "86.67% for the train data\n",
      "76.92% for the test data\n",
      "\n",
      "Evaluation: precision_score\n",
      "67.01% for the train data\n",
      "71.43% for the test data\n",
      "\n",
      "Evaluation: confusion_matrix\n"
     ]
    },
    {
     "data": {
      "image/png": "[encoded data removed]",
      "text/plain": [
       "<Figure size 640x480 with 2 Axes>"
      ]
     },
     "metadata": {},
     "output_type": "display_data"
    },
    {
     "name": "stdout",
     "output_type": "stream",
     "text": [
      "\n",
      "Evaluation: roc\n"
     ]
    },
    {
     "data": {
      "image/png": "[encoded data removed]",
      "text/plain": [
       "<Figure size 640x480 with 1 Axes>"
      ]
     },
     "metadata": {},
     "output_type": "display_data"
    },
    {
     "data": {
      "text/plain": [
       "[(0.7558139534883721, 0.7407407407407408),\n",
       " (0.8189655172413793, 0.8292682926829268),\n",
       " (0.8666666666666667, 0.7692307692307693),\n",
       " (0.6701030927835051, 0.7142857142857143)]"
      ]
     },
     "execution_count": 17,
     "metadata": {},
     "output_type": "execute_result"
    }
   ],
   "source": [
    "f1_best_model_rand = load_model(svm_model, 'f1_macro', ros='final', search='random')\n",
    "model_eval(f1_best_model_rand, X_train, X_test, y_train, y_test, confusion=True, roc=True)"
   ]
  },
  {
   "cell_type": "markdown",
   "id": "1e77397c",
   "metadata": {},
   "source": [
    "### with oversampled dataset"
   ]
  },
  {
   "cell_type": "code",
   "execution_count": 18,
   "id": "ffbdaba5",
   "metadata": {},
   "outputs": [
    {
     "name": "stdout",
     "output_type": "stream",
     "text": [
      "\n",
      "Evaluation: f1_score\n",
      "86.69% for the train data\n",
      "70.37% for the test data\n",
      "\n",
      "Evaluation: accuracy_score\n",
      "86.43% for the train data\n",
      "80.49% for the test data\n",
      "\n",
      "Evaluation: recall_score\n",
      "88.37% for the train data\n",
      "73.08% for the test data\n",
      "\n",
      "Evaluation: precision_score\n",
      "85.07% for the train data\n",
      "67.86% for the test data\n",
      "\n",
      "Evaluation: confusion_matrix\n"
     ]
    },
    {
     "data": {
      "image/png": "[encoded data removed]",
      "text/plain": [
       "<Figure size 640x480 with 2 Axes>"
      ]
     },
     "metadata": {},
     "output_type": "display_data"
    },
    {
     "name": "stdout",
     "output_type": "stream",
     "text": [
      "\n",
      "Evaluation: roc\n"
     ]
    },
    {
     "data": {
      "image/png": "[encoded data removed]",
      "text/plain": [
       "<Figure size 640x480 with 1 Axes>"
      ]
     },
     "metadata": {},
     "output_type": "display_data"
    },
    {
     "data": {
      "text/plain": [
       "[(0.8669201520912547, 0.7037037037037038),\n",
       " (0.8643410852713178, 0.8048780487804879),\n",
       " (0.8837209302325582, 0.7307692307692307),\n",
       " (0.8507462686567164, 0.6785714285714286)]"
      ]
     },
     "execution_count": 18,
     "metadata": {},
     "output_type": "execute_result"
    }
   ],
   "source": [
    "# best setting with normal data set, evaluated on oversampled dataset\n",
    "model_eval(f1_best_model_grid, X_train2, X_test2, y_train2, y_test2, confusion=True, roc=True)"
   ]
  },
  {
   "cell_type": "code",
   "execution_count": 19,
   "id": "69c69d42",
   "metadata": {},
   "outputs": [
    {
     "name": "stdout",
     "output_type": "stream",
     "text": [
      "\n",
      "Evaluation: f1_score\n",
      "86.57% for the train data\n",
      "67.80% for the test data\n",
      "\n",
      "Evaluation: accuracy_score\n",
      "86.05% for the train data\n",
      "76.83% for the test data\n",
      "\n",
      "Evaluation: recall_score\n",
      "89.92% for the train data\n",
      "76.92% for the test data\n",
      "\n",
      "Evaluation: precision_score\n",
      "83.45% for the train data\n",
      "60.61% for the test data\n",
      "\n",
      "Evaluation: confusion_matrix\n"
     ]
    },
    {
     "data": {
      "image/png": "[encoded data removed]",
      "text/plain": [
       "<Figure size 640x480 with 2 Axes>"
      ]
     },
     "metadata": {},
     "output_type": "display_data"
    },
    {
     "name": "stdout",
     "output_type": "stream",
     "text": [
      "\n",
      "Evaluation: roc\n"
     ]
    },
    {
     "data": {
      "image/png": "[encoded data removed]",
      "text/plain": [
       "<Figure size 640x480 with 1 Axes>"
      ]
     },
     "metadata": {},
     "output_type": "display_data"
    },
    {
     "data": {
      "text/plain": [
       "[(0.8656716417910448, 0.6779661016949152),\n",
       " (0.8604651162790697, 0.7682926829268293),\n",
       " (0.8992248062015504, 0.7692307692307693),\n",
       " (0.8345323741007195, 0.6060606060606061)]"
      ]
     },
     "execution_count": 19,
     "metadata": {},
     "output_type": "execute_result"
    }
   ],
   "source": [
    "model_eval(f1_best_model_rand, X_train2, X_test2, y_train2, y_test2, confusion=True, roc=True)"
   ]
  },
  {
   "cell_type": "markdown",
   "id": "1b1d108b",
   "metadata": {},
   "source": [
    "### Comparison between best model after 1st fine tuning and after 2nd fine tuning on oversampled data"
   ]
  },
  {
   "cell_type": "code",
   "execution_count": 25,
   "id": "5170b0ee",
   "metadata": {},
   "outputs": [
    {
     "name": "stdout",
     "output_type": "stream",
     "text": [
      "\n",
      "Evaluation: f1_score\n",
      "86.69% for the train data\n",
      "70.37% for the test data\n",
      "\n",
      "Evaluation: accuracy_score\n",
      "86.43% for the train data\n",
      "80.49% for the test data\n",
      "\n",
      "Evaluation: recall_score\n",
      "88.37% for the train data\n",
      "73.08% for the test data\n",
      "\n",
      "Evaluation: precision_score\n",
      "85.07% for the train data\n",
      "67.86% for the test data\n",
      "SVC(C=0.1, class_weight='balanced', degree=2, gamma=0.1, kernel='poly')\n"
     ]
    }
   ],
   "source": [
    "# best model after 1st fine tuning evaluated on oversampled data\n",
    "model_eval(best_model_dict['f1_macro'], X_train2, X_test2, y_train2, y_test2)\n",
    "print(best_model_dict['f1_macro'])"
   ]
  },
  {
   "cell_type": "code",
   "execution_count": 26,
   "id": "ad26cabd",
   "metadata": {},
   "outputs": [
    {
     "name": "stdout",
     "output_type": "stream",
     "text": [
      "\n",
      "Evaluation: f1_score\n",
      "86.69% for the train data\n",
      "70.37% for the test data\n",
      "\n",
      "Evaluation: accuracy_score\n",
      "86.43% for the train data\n",
      "80.49% for the test data\n",
      "\n",
      "Evaluation: recall_score\n",
      "88.37% for the train data\n",
      "73.08% for the test data\n",
      "\n",
      "Evaluation: precision_score\n",
      "85.07% for the train data\n",
      "67.86% for the test data\n",
      "SVC(C=0.001, class_weight='balanced', degree=2, gamma=1, kernel='poly',\n",
      "    random_state=0)\n"
     ]
    }
   ],
   "source": [
    "# best model after 2nd fine tuning evaluated on oversampled data\n",
    "model_eval(f1_best_model_grid, X_train2, X_test2, y_train2, y_test2)\n",
    "print(f1_best_model_grid)"
   ]
  },
  {
   "cell_type": "code",
   "execution_count": null,
   "id": "eeaa725a",
   "metadata": {},
   "outputs": [],
   "source": []
  }
 ],
 "metadata": {
  "kernelspec": {
   "display_name": "ML",
   "language": "python",
   "name": "ml"
  },
  "language_info": {
   "codemirror_mode": {
    "name": "ipython",
    "version": 3
   },
   "file_extension": ".py",
   "mimetype": "text/x-python",
   "name": "python",
   "nbconvert_exporter": "python",
   "pygments_lexer": "ipython3",
   "version": "3.9.13"
  }
 },
 "nbformat": 4,
 "nbformat_minor": 5
}
